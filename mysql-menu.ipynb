{
 "cells": [
  {
   "cell_type": "code",
   "execution_count": 5,
   "metadata": {},
   "outputs": [
    {
     "name": "stdout",
     "output_type": "stream",
     "text": [
      "1 --> catfish @ 8.5 each\n",
      "2 --> catfish @ 8.5 each\n",
      "3 --> tuna @ 8.0 each\n",
      "4 --> catfish @ 5.0 each\n",
      "5 --> bass @ 6.75 each\n",
      "6 --> haddock @ 6.5 each\n",
      "7 --> salmon @ 9.5 each\n",
      "8 --> trout @ 6.0 each\n",
      "9 --> tuna @ 7.5 each\n",
      "10 --> yellowfin tuna @ 12.0 each\n",
      "11 --> yellowfin tuna @ 13.0 each\n",
      "12 --> tuna @ 7.5 each\n",
      "---------------------------------------\n",
      " WHERE price > 7\n",
      "---------------------------------------\n",
      "1 --> catfish @ 8.5 each\n",
      "2 --> catfish @ 8.5 each\n",
      "3 --> tuna @ 8.0 each\n",
      "7 --> salmon @ 9.5 each\n",
      "9 --> tuna @ 7.5 each\n",
      "10 --> yellowfin tuna @ 12.0 each\n",
      "11 --> yellowfin tuna @ 13.0 each\n",
      "12 --> tuna @ 7.5 each\n"
     ]
    }
   ],
   "source": [
    "import mysql\n",
    "import mysql.connector\n",
    "\n",
    "cnx = mysql.connector.connect(user='root', password='',\n",
    "                              host='127.0.0.1',\n",
    "                              database='menu')\n",
    "\n",
    "cur = cnx.cursor()\n",
    "\n",
    "# Use all the SQL you like\n",
    "cur.execute(\"SELECT * FROM fish \")\n",
    "\n",
    "# print all the first cell of all the rows\n",
    "for row in cur.fetchall():\n",
    "    print(row[0],\"-->\",row[1],\"@\",row[2],\"each\")\n",
    "    \n",
    "print(\"---------------------------------------\")\n",
    "print(\" WHERE price > 7\")\n",
    "print(\"---------------------------------------\")\n",
    "cur.execute(\"SELECT * FROM fish WHERE price > 7\")\n",
    "\n",
    "# print all the first cell of all the rows\n",
    "for row in cur.fetchall():\n",
    "    print(row[0],\"-->\",row[1],\"@\",row[2],\"each\")\n",
    "    "
   ]
  },
  {
   "cell_type": "markdown",
   "metadata": {},
   "source": [
    "# Modifying the results"
   ]
  },
  {
   "cell_type": "code",
   "execution_count": 6,
   "metadata": {},
   "outputs": [
    {
     "name": "stdout",
     "output_type": "stream",
     "text": [
      "1 --> catfish @ 8.5 each\n",
      "2 --> catfish @ 8.5 each\n",
      "3 --> tuna @ 8.0 each\n",
      "4 --> catfish @ 5.0 each\n",
      "5 --> bass @ 6.75 each\n",
      "6 --> haddock @ 6.5 each\n",
      "7 --> salmon @ 9.5 each\n",
      "8 --> trout @ 6.0 each\n",
      "9 --> tuna @ 7.5 each\n",
      "10 --> yellowfin tuna @ 12.0 each\n",
      "11 --> yellowfin tuna @ 13.0 each\n",
      "12 --> tuna @ 7.5 each\n",
      "---------------------------------------\n",
      " WHERE price > 7\n",
      "---------------------------------------\n",
      "1 --> catfish @ 8.5 each\n",
      "2 --> catfish @ 8.5 each\n",
      "3 --> tuna @ 8.0 each\n",
      "7 --> salmon @ 9.5 each\n",
      "9 --> tuna @ 7.5 each\n",
      "10 --> yellowfin tuna @ 12.0 each\n",
      "11 --> yellowfin tuna @ 13.0 each\n",
      "12 --> tuna @ 7.5 each\n"
     ]
    }
   ],
   "source": [
    "import mysql\n",
    "import mysql.connector\n",
    "\n",
    "cnx = mysql.connector.connect(user='root', password='',\n",
    "                              host='127.0.0.1',\n",
    "                              database='menu')\n",
    "\n",
    "cur = cnx.cursor()\n",
    "\n",
    "# Use all the SQL you like\n",
    "cur.execute(\"SELECT * FROM fish \")\n",
    "\n",
    "# print all the first cell of all the rows\n",
    "for row in cur.fetchall():\n",
    "    print(row[0],\"-->\",row[1],\"@\",row[2],\"each\")\n",
    "    \n",
    "print(\"---------------------------------------\")\n",
    "print(\" WHERE price > 7\")\n",
    "print(\"---------------------------------------\")\n",
    "cur.execute(\"SELECT * FROM fish WHERE price > 7\")\n",
    "\n",
    "# print all the first cell of all the rows\n",
    "for row in cur.fetchall():\n",
    "    print(row[0],\"-->\",row[1],\"@\",row[2],\"each\")\n",
    "  "
   ]
  },
  {
   "cell_type": "code",
   "execution_count": 7,
   "metadata": {},
   "outputs": [
    {
     "name": "stdout",
     "output_type": "stream",
     "text": [
      "entrez l'operation = :=\n",
      "value: 7\n"
     ]
    }
   ],
   "source": [
    "operation = input(\"entrez l'operation = :\")\n",
    "value = input(\"value: \")\n",
    "cur.execute(\"SELECT * FROM fish WHERE price %s %s\" %(operation, value))\n",
    "# print all the first cell of all the rows\n",
    "for row in cur.fetchall():\n",
    "    print(row[0],\"-->\",row[1],\"@\",row[2],\"each\")"
   ]
  },
  {
   "cell_type": "code",
   "execution_count": 8,
   "metadata": {},
   "outputs": [],
   "source": [
    "statement = \"\"\"SHOW TABLES\"\"\"\n",
    "cur.execute(statement)\n",
    "table_list = []\n",
    "for record in cur.fetchall():\n",
    "    table_list.append(record[0])"
   ]
  },
  {
   "cell_type": "code",
   "execution_count": null,
   "metadata": {},
   "outputs": [],
   "source": []
  },
  {
   "cell_type": "code",
   "execution_count": null,
   "metadata": {},
   "outputs": [],
   "source": []
  }
 ],
 "metadata": {
  "anaconda-cloud": {},
  "kernelspec": {
   "display_name": "Python [default]",
   "language": "python",
   "name": "python3"
  },
  "language_info": {
   "codemirror_mode": {
    "name": "ipython",
    "version": 3
   },
   "file_extension": ".py",
   "mimetype": "text/x-python",
   "name": "python",
   "nbconvert_exporter": "python",
   "pygments_lexer": "ipython3",
   "version": "3.5.2"
  }
 },
 "nbformat": 4,
 "nbformat_minor": 1
}
